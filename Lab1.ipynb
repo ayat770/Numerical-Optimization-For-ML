{
 "cells": [
  {
   "cell_type": "markdown",
   "metadata": {
    "id": "VNYrY1TeBiwa"
   },
   "source": [
    "## Practical Work 1"
   ]
  },
  {
   "cell_type": "markdown",
   "metadata": {
    "id": "CDPDTZHPBiwi"
   },
   "source": [
    "For this practical work, the student will have to develop a Python program that is able to implement the gradient descent in order to achieve the linear regression of a set of datapoints."
   ]
  },
  {
   "cell_type": "markdown",
   "metadata": {
    "id": "tHyiBjD_Biwj"
   },
   "source": [
    "#### Import numpy, matplotlib.pyplot and make it inline"
   ]
  },
  {
   "cell_type": "code",
   "execution_count": 2,
   "metadata": {
    "id": "_F6o_pBEBiwk"
   },
   "outputs": [],
   "source": [
    "import numpy as np\n",
    "import matplotlib.pyplot as plt"
   ]
  },
  {
   "cell_type": "markdown",
   "metadata": {
    "id": "UM9ZD0SBBiwl"
   },
   "source": [
    "#### Read RegData csv file into numpy array  (check your data)\n",
    "##### Data source\n",
    "https://college.cengage.com/mathematics/brase/understandable_statistics/7e/students/datasets/slr/frames/frame.html\n"
   ]
  },
  {
   "cell_type": "code",
   "execution_count": 69,
   "metadata": {
    "id": "my87Du15Biwn"
   },
   "outputs": [],
   "source": [
    "A = np.genfromtxt('XandY.csv',delimiter = ',', skip_header =1)"
   ]
  },
  {
   "cell_type": "markdown",
   "metadata": {
    "id": "owZkx69SBiwn"
   },
   "source": [
    "#### Explore your data"
   ]
  },
  {
   "cell_type": "code",
   "execution_count": 70,
   "metadata": {},
   "outputs": [
    {
     "data": {
      "text/plain": [
       "array([[ 2.5, 21. ],\n",
       "       [ 5.1, 47. ],\n",
       "       [ 3.2, 27. ],\n",
       "       [ 8.5, 75. ],\n",
       "       [ 3.5, 30. ],\n",
       "       [ 1.5, 20. ],\n",
       "       [ 9.2, 88. ],\n",
       "       [ 5.5, 60. ],\n",
       "       [ 8.3, 81. ],\n",
       "       [ 2.7, 25. ],\n",
       "       [ 7.7, 85. ],\n",
       "       [ 5.9, 62. ],\n",
       "       [ 4.5, 41. ],\n",
       "       [ 3.3, 42. ],\n",
       "       [ 1.1, 17. ],\n",
       "       [ 8.9, 95. ],\n",
       "       [ 2.5, 30. ],\n",
       "       [ 1.9, 24. ],\n",
       "       [ 6.1, 67. ],\n",
       "       [ 7.4, 69. ],\n",
       "       [ 2.7, 30. ],\n",
       "       [ 4.8, 54. ],\n",
       "       [ 3.8, 35. ],\n",
       "       [ 6.9, 76. ],\n",
       "       [ 7.8, 86. ]])"
      ]
     },
     "execution_count": 70,
     "metadata": {},
     "output_type": "execute_result"
    }
   ],
   "source": [
    "A"
   ]
  },
  {
   "cell_type": "markdown",
   "metadata": {
    "id": "E9UmMCvxBiwq"
   },
   "source": [
    "#### Define variables X and y. Assign first column data to X and second column to y\n",
    "<b>Note:</b> X is the independent variable (input to LR model) and y is the dependent variable (output)"
   ]
  },
  {
   "cell_type": "code",
   "execution_count": 71,
   "metadata": {
    "id": "KE8mRQ1qBiwr"
   },
   "outputs": [],
   "source": [
    "x = A[:,0]\n",
    "y = A[:,1]"
   ]
  },
  {
   "cell_type": "markdown",
   "metadata": {
    "id": "C9pq_EtBBiwr"
   },
   "source": [
    "#### Explore your data"
   ]
  },
  {
   "cell_type": "code",
   "execution_count": 72,
   "metadata": {
    "id": "DCl36QMsBiws"
   },
   "outputs": [
    {
     "name": "stdout",
     "output_type": "stream",
     "text": [
      "[2.5 5.1 3.2 8.5 3.5 1.5 9.2 5.5 8.3 2.7 7.7 5.9 4.5 3.3 1.1 8.9 2.5 1.9\n",
      " 6.1 7.4 2.7 4.8 3.8 6.9 7.8]\n"
     ]
    }
   ],
   "source": [
    "print(x)"
   ]
  },
  {
   "cell_type": "code",
   "execution_count": 73,
   "metadata": {
    "id": "GRxlsqa3Biws",
    "scrolled": true
   },
   "outputs": [
    {
     "name": "stdout",
     "output_type": "stream",
     "text": [
      "[21. 47. 27. 75. 30. 20. 88. 60. 81. 25. 85. 62. 41. 42. 17. 95. 30. 24.\n",
      " 67. 69. 30. 54. 35. 76. 86.]\n"
     ]
    }
   ],
   "source": [
    "print(y)"
   ]
  },
  {
   "cell_type": "markdown",
   "metadata": {
    "id": "2KQyVG9lBiws"
   },
   "source": [
    "#### Plot the original data (scatter plot of X,y)"
   ]
  },
  {
   "cell_type": "code",
   "execution_count": 74,
   "metadata": {
    "id": "yAnX2vYnBiwt"
   },
   "outputs": [
    {
     "data": {
      "image/png": "[encoded data removed]",
      "text/plain": [
       "<Figure size 432x288 with 1 Axes>"
      ]
     },
     "metadata": {
      "needs_background": "light"
     },
     "output_type": "display_data"
    }
   ],
   "source": [
    "plt.scatter(x,y)\n",
    "plt.xlabel('Hours')\n",
    "plt.ylabel('Scores')\n",
    "plt.show()"
   ]
  },
  {
   "cell_type": "markdown",
   "metadata": {
    "id": "TCMaEjkBBiwt"
   },
   "source": [
    "## LR Full Implementation"
   ]
  },
  {
   "cell_type": "markdown",
   "metadata": {
    "id": "8VPdQ31cBiwu"
   },
   "source": [
    "### Step1: Initialize parameters (theta_0 & theta_1) with random value or simply zero. Also choose the Learning rate. "
   ]
  },
  {
   "cell_type": "code",
   "execution_count": 75,
   "metadata": {
    "id": "kbp-waV1Biwx"
   },
   "outputs": [],
   "source": [
    "theta_0 = 0\n",
    "theta_1 = 0\n",
    "alpha = 0.01"
   ]
  },
  {
   "cell_type": "markdown",
   "metadata": {},
   "source": [
    "### Step2: Use (theta_0 & theta_1) to predict the output h(x)= theta_0 + theta_1 * x"
   ]
  },
  {
   "cell_type": "code",
   "execution_count": 76,
   "metadata": {
    "id": "q4sJDlTTBiwy"
   },
   "outputs": [
    {
     "data": {
      "text/plain": [
       "array([0., 0., 0., 0., 0., 0., 0., 0., 0., 0., 0., 0., 0., 0., 0., 0., 0.,\n",
       "       0., 0., 0., 0., 0., 0., 0., 0.])"
      ]
     },
     "execution_count": 76,
     "metadata": {},
     "output_type": "execute_result"
    }
   ],
   "source": [
    "h = theta_0 + theta_1*x\n",
    "h"
   ]
  },
  {
   "cell_type": "markdown",
   "metadata": {},
   "source": [
    "### Step3: Calculate Cost function 𝑱(theta_0,theta_1 )"
   ]
  },
  {
   "cell_type": "code",
   "execution_count": 77,
   "metadata": {
    "id": "kgDAuXfrBiwz"
   },
   "outputs": [
    {
     "data": {
      "text/plain": [
       "1632.02"
      ]
     },
     "execution_count": 77,
     "metadata": {},
     "output_type": "execute_result"
    }
   ],
   "source": [
    "j_cost = (1/(2*len(x)))*sum((h-y)**2)\n",
    "j_cost"
   ]
  },
  {
   "cell_type": "markdown",
   "metadata": {},
   "source": [
    "### Step4: Calculate the gradient."
   ]
  },
  {
   "cell_type": "code",
   "execution_count": 78,
   "metadata": {
    "id": "cZInWTjSBiwz"
   },
   "outputs": [],
   "source": [
    "g0 = (1/len(x))*sum(h-y)\n",
    "g1=(1/len(x))*sum((h-y)*x)\n"
   ]
  },
  {
   "cell_type": "code",
   "execution_count": 79,
   "metadata": {},
   "outputs": [
    {
     "data": {
      "text/plain": [
       "-51.480000000000004"
      ]
     },
     "execution_count": 79,
     "metadata": {},
     "output_type": "execute_result"
    }
   ],
   "source": [
    "g0"
   ]
  },
  {
   "cell_type": "code",
   "execution_count": 80,
   "metadata": {},
   "outputs": [
    {
     "data": {
      "text/plain": [
       "-317.85600000000005"
      ]
     },
     "execution_count": 80,
     "metadata": {},
     "output_type": "execute_result"
    }
   ],
   "source": [
    "g1"
   ]
  },
  {
   "cell_type": "markdown",
   "metadata": {},
   "source": [
    "### Step5: Update the parameters (simultaneously)"
   ]
  },
  {
   "cell_type": "code",
   "execution_count": 81,
   "metadata": {
    "id": "KzoL_XJ_Biw0"
   },
   "outputs": [],
   "source": [
    "theta_0 = theta_0 - alpha*g0\n",
    "theta_1 = theta_1 - alpha*g1"
   ]
  },
  {
   "cell_type": "code",
   "execution_count": 82,
   "metadata": {},
   "outputs": [
    {
     "data": {
      "text/plain": [
       "0.5148"
      ]
     },
     "execution_count": 82,
     "metadata": {},
     "output_type": "execute_result"
    }
   ],
   "source": [
    "theta_0"
   ]
  },
  {
   "cell_type": "code",
   "execution_count": 83,
   "metadata": {},
   "outputs": [
    {
     "data": {
      "text/plain": [
       "3.1785600000000005"
      ]
     },
     "execution_count": 83,
     "metadata": {},
     "output_type": "execute_result"
    }
   ],
   "source": [
    "theta_1"
   ]
  },
  {
   "cell_type": "markdown",
   "metadata": {},
   "source": [
    "### Step6: Repeat from 2 to 5 until converge to the minimum or achieve maximum iterations."
   ]
  },
  {
   "cell_type": "code",
   "execution_count": 84,
   "metadata": {
    "id": "h_yRHCWdBiw0"
   },
   "outputs": [
    {
     "name": "stdout",
     "output_type": "stream",
     "text": [
      "--------------------------------\n",
      "cost fun = 14.443033731858966\n",
      "theta_0 = 2.3534281584433447\n",
      "theta_1 = 9.79682705010102\n"
     ]
    }
   ],
   "source": [
    "arr_cost = []\n",
    "opt_theta0 = 0\n",
    "opt_theta1 = 0\n",
    "for i in range(1000):\n",
    "    h = theta_0 + theta_1*x\n",
    "    j_cost = (1/(2*len(x)))*sum((h-y)**2)\n",
    "    #print(j_cost)\n",
    "    arr_cost.append(j_cost)\n",
    "    g0 = (1/len(x))*sum(h-y)\n",
    "    g1=(1/len(x))*sum((h-y)*x)\n",
    "    theta_0 = theta_0 - alpha*g0\n",
    "    theta_1 = theta_1 - alpha*g1\n",
    "print(\"--------------------------------\")    \n",
    "if min(arr_cost):\n",
    "    opt_theta0 = theta_0\n",
    "    opt_theta1 = theta_1\n",
    "    print(\"cost fun = \" + str(min(arr_cost)))\n",
    "    print(\"theta_0 = \" + str(opt_theta0))\n",
    "    print(\"theta_1 = \" + str(opt_theta1))\n",
    "        \n",
    "    \n",
    "    \n",
    "    \n",
    "    "
   ]
  },
  {
   "cell_type": "markdown",
   "metadata": {
    "id": "4cZBK5hLBiw0"
   },
   "source": [
    "#### Predict y values using the LR equation\n",
    "##### h(x)= theta_0 + theta_1 * x"
   ]
  },
  {
   "cell_type": "code",
   "execution_count": 85,
   "metadata": {
    "id": "TWGsTKHPBiw0"
   },
   "outputs": [
    {
     "data": {
      "text/plain": [
       "array([26.84549578, 52.31724611, 33.70327472, 85.62645808, 36.64232283,\n",
       "       17.04866873, 92.48423702, 56.23597693, 83.66709267, 28.80486119,\n",
       "       77.78899644, 60.15470775, 46.43914988, 34.68295742, 13.12993791,\n",
       "       89.5451889 , 26.84549578, 20.96739955, 62.11407316, 74.84994833,\n",
       "       28.80486119, 49.378198  , 39.58137095, 69.9515348 , 78.76867915])"
      ]
     },
     "execution_count": 85,
     "metadata": {},
     "output_type": "execute_result"
    }
   ],
   "source": [
    "h_ofYpre = opt_theta0 + opt_theta1 * x\n",
    "h_ofYpre"
   ]
  },
  {
   "cell_type": "markdown",
   "metadata": {
    "id": "Hf8CDPUZBiw1"
   },
   "source": [
    "#### Plot  LR equation output (fitted line) with the original data (scatter plot of X,y)"
   ]
  },
  {
   "cell_type": "code",
   "execution_count": 86,
   "metadata": {
    "id": "x0_O5ji8Biw1",
    "scrolled": false
   },
   "outputs": [
    {
     "data": {
      "text/plain": [
       "[<matplotlib.lines.Line2D at 0x1e704e49310>]"
      ]
     },
     "execution_count": 86,
     "metadata": {},
     "output_type": "execute_result"
    },
    {
     "data": {
      "image/png": "[encoded data removed]",
      "text/plain": [
       "<Figure size 432x288 with 1 Axes>"
      ]
     },
     "metadata": {
      "needs_background": "light"
     },
     "output_type": "display_data"
    }
   ],
   "source": [
    "plt.scatter(x,y,color=\"red\")\n",
    "plt.plot(x,h_ofYpre,color=\"blue\")\n"
   ]
  },
  {
   "cell_type": "markdown",
   "metadata": {
    "id": "i4MNcSd3Biw3"
   },
   "source": [
    "### Plot loss vs. iterations"
   ]
  },
  {
   "cell_type": "code",
   "execution_count": 87,
   "metadata": {
    "id": "GMSOD4-2Biw3"
   },
   "outputs": [
    {
     "data": {
      "image/png": "[encoded data removed]",
      "text/plain": [
       "<Figure size 432x288 with 1 Axes>"
      ]
     },
     "metadata": {
      "needs_background": "light"
     },
     "output_type": "display_data"
    }
   ],
   "source": [
    "plt.plot(arr_cost)\n",
    "plt.show()"
   ]
  },
  {
   "cell_type": "markdown",
   "metadata": {
    "id": "kPBJw-klBiw3"
   },
   "source": [
    "## Multivariate LR"
   ]
  },
  {
   "cell_type": "markdown",
   "metadata": {
    "id": "pfuZyWqtBiw4"
   },
   "source": [
    "#### Read MultipleLR csv file into numpy array  (check your data)\n",
    "##### Data source\n",
    "https://college.cengage.com/mathematics/brase/understandable_statistics/7e/students/datasets/slr/frames/frame.html\n"
   ]
  },
  {
   "cell_type": "code",
   "execution_count": 3,
   "metadata": {
    "id": "fwpbkOM9Biw4"
   },
   "outputs": [],
   "source": [
    "C = np.genfromtxt('ball.csv',delimiter = ',', skip_header =1)"
   ]
  },
  {
   "cell_type": "code",
   "execution_count": 4,
   "metadata": {
    "id": "1Aj9jaN5Biw4"
   },
   "outputs": [
    {
     "data": {
      "text/plain": [
       "array([[6.80e+00, 2.25e+02, 4.42e-01, 6.72e-01, 9.20e+00],\n",
       "       [6.30e+00, 1.80e+02, 4.35e-01, 7.97e-01, 1.17e+01],\n",
       "       [6.40e+00, 1.90e+02, 4.56e-01, 7.61e-01, 1.58e+01],\n",
       "       [6.20e+00, 1.80e+02, 4.16e-01, 6.51e-01, 8.60e+00],\n",
       "       [6.90e+00, 2.05e+02, 4.49e-01, 9.00e-01, 2.32e+01],\n",
       "       [6.40e+00, 2.25e+02, 4.31e-01, 7.80e-01, 2.74e+01],\n",
       "       [6.30e+00, 1.85e+02, 4.87e-01, 7.71e-01, 9.30e+00],\n",
       "       [6.80e+00, 2.35e+02, 4.69e-01, 7.50e-01, 1.60e+01],\n",
       "       [6.90e+00, 2.35e+02, 4.35e-01, 8.18e-01, 4.70e+00],\n",
       "       [6.70e+00, 2.10e+02, 4.80e-01, 8.25e-01, 1.25e+01],\n",
       "       [6.90e+00, 2.45e+02, 5.16e-01, 6.32e-01, 2.01e+01],\n",
       "       [6.90e+00, 2.45e+02, 4.93e-01, 7.57e-01, 9.10e+00],\n",
       "       [6.30e+00, 1.85e+02, 3.74e-01, 7.09e-01, 8.10e+00],\n",
       "       [6.10e+00, 1.85e+02, 4.24e-01, 7.82e-01, 8.60e+00],\n",
       "       [6.20e+00, 1.80e+02, 4.41e-01, 7.75e-01, 2.03e+01],\n",
       "       [6.80e+00, 2.20e+02, 5.03e-01, 8.80e-01, 2.50e+01],\n",
       "       [6.50e+00, 1.94e+02, 5.03e-01, 8.33e-01, 1.92e+01],\n",
       "       [7.60e+00, 2.25e+02, 4.25e-01, 5.71e-01, 3.30e+00],\n",
       "       [6.30e+00, 2.10e+02, 3.71e-01, 8.16e-01, 1.12e+01],\n",
       "       [7.10e+00, 2.40e+02, 5.04e-01, 7.14e-01, 1.05e+01],\n",
       "       [6.80e+00, 2.25e+02, 4.00e-01, 7.65e-01, 1.01e+01],\n",
       "       [7.30e+00, 2.63e+02, 4.82e-01, 6.55e-01, 7.20e+00],\n",
       "       [6.40e+00, 2.10e+02, 4.75e-01, 2.44e-01, 1.36e+01],\n",
       "       [6.80e+00, 2.35e+02, 4.28e-01, 7.28e-01, 9.00e+00],\n",
       "       [7.20e+00, 2.30e+02, 5.59e-01, 7.21e-01, 2.46e+01],\n",
       "       [6.40e+00, 1.90e+02, 4.41e-01, 7.57e-01, 1.26e+01],\n",
       "       [6.60e+00, 2.20e+02, 4.92e-01, 7.47e-01, 5.60e+00],\n",
       "       [6.80e+00, 2.10e+02, 4.02e-01, 7.39e-01, 8.70e+00],\n",
       "       [6.10e+00, 1.80e+02, 4.15e-01, 7.13e-01, 7.70e+00],\n",
       "       [6.50e+00, 2.35e+02, 4.92e-01, 7.42e-01, 2.41e+01],\n",
       "       [6.40e+00, 1.85e+02, 4.84e-01, 8.61e-01, 1.17e+01],\n",
       "       [6.00e+00, 1.75e+02, 3.87e-01, 7.21e-01, 7.70e+00],\n",
       "       [6.00e+00, 1.92e+02, 4.36e-01, 7.85e-01, 9.60e+00],\n",
       "       [7.30e+00, 2.63e+02, 4.82e-01, 6.55e-01, 7.20e+00],\n",
       "       [6.10e+00, 1.80e+02, 3.40e-01, 8.21e-01, 1.23e+01],\n",
       "       [6.70e+00, 2.40e+02, 5.16e-01, 7.28e-01, 8.90e+00],\n",
       "       [6.40e+00, 2.10e+02, 4.75e-01, 8.46e-01, 1.36e+01],\n",
       "       [5.80e+00, 1.60e+02, 4.12e-01, 8.13e-01, 1.12e+01],\n",
       "       [6.90e+00, 2.30e+02, 4.11e-01, 5.95e-01, 2.80e+00],\n",
       "       [7.00e+00, 2.45e+02, 4.07e-01, 5.73e-01, 3.20e+00],\n",
       "       [7.30e+00, 2.28e+02, 4.45e-01, 7.26e-01, 9.40e+00],\n",
       "       [5.90e+00, 1.55e+02, 2.91e-01, 7.07e-01, 1.19e+01],\n",
       "       [6.20e+00, 2.00e+02, 4.49e-01, 8.04e-01, 1.54e+01],\n",
       "       [6.80e+00, 2.35e+02, 5.46e-01, 7.84e-01, 7.40e+00],\n",
       "       [7.00e+00, 2.35e+02, 4.80e-01, 7.44e-01, 1.89e+01],\n",
       "       [5.90e+00, 1.05e+02, 3.59e-01, 8.39e-01, 7.90e+00],\n",
       "       [6.10e+00, 1.80e+02, 5.28e-01, 7.90e-01, 1.22e+01],\n",
       "       [5.70e+00, 1.85e+02, 3.52e-01, 7.01e-01, 1.10e+01],\n",
       "       [7.10e+00, 2.45e+02, 4.14e-01, 7.78e-01, 2.80e+00],\n",
       "       [5.80e+00, 1.80e+02, 4.25e-01, 8.72e-01, 1.18e+01],\n",
       "       [7.40e+00, 2.40e+02, 5.99e-01, 7.13e-01, 1.71e+01],\n",
       "       [6.80e+00, 2.25e+02, 4.82e-01, 7.01e-01, 1.16e+01],\n",
       "       [6.80e+00, 2.15e+02, 4.57e-01, 7.34e-01, 5.80e+00],\n",
       "       [7.00e+00, 2.30e+02, 4.35e-01, 7.64e-01, 8.30e+00]])"
      ]
     },
     "execution_count": 4,
     "metadata": {},
     "output_type": "execute_result"
    }
   ],
   "source": [
    "C"
   ]
  },
  {
   "cell_type": "code",
   "execution_count": 21,
   "metadata": {
    "id": "_Jk48kpxBiw4"
   },
   "outputs": [],
   "source": [
    "yC=C[:,4]\n",
    "x1=C[:,0]\n",
    "x2=C[:,1]\n",
    "x3=C[:,2]\n",
    "x4=C[:,3]"
   ]
  },
  {
   "cell_type": "code",
   "execution_count": 22,
   "metadata": {
    "id": "ARYC6bKwBiw5"
   },
   "outputs": [
    {
     "data": {
      "text/plain": [
       "array([ 9.2, 11.7, 15.8,  8.6, 23.2, 27.4,  9.3, 16. ,  4.7, 12.5, 20.1,\n",
       "        9.1,  8.1,  8.6, 20.3, 25. , 19.2,  3.3, 11.2, 10.5, 10.1,  7.2,\n",
       "       13.6,  9. , 24.6, 12.6,  5.6,  8.7,  7.7, 24.1, 11.7,  7.7,  9.6,\n",
       "        7.2, 12.3,  8.9, 13.6, 11.2,  2.8,  3.2,  9.4, 11.9, 15.4,  7.4,\n",
       "       18.9,  7.9, 12.2, 11. ,  2.8, 11.8, 17.1, 11.6,  5.8,  8.3])"
      ]
     },
     "execution_count": 22,
     "metadata": {},
     "output_type": "execute_result"
    }
   ],
   "source": [
    "yC"
   ]
  },
  {
   "cell_type": "code",
   "execution_count": 23,
   "metadata": {
    "id": "fOAzAlnzBiw5"
   },
   "outputs": [
    {
     "data": {
      "text/plain": [
       "array([6.8, 6.3, 6.4, 6.2, 6.9, 6.4, 6.3, 6.8, 6.9, 6.7, 6.9, 6.9, 6.3,\n",
       "       6.1, 6.2, 6.8, 6.5, 7.6, 6.3, 7.1, 6.8, 7.3, 6.4, 6.8, 7.2, 6.4,\n",
       "       6.6, 6.8, 6.1, 6.5, 6.4, 6. , 6. , 7.3, 6.1, 6.7, 6.4, 5.8, 6.9,\n",
       "       7. , 7.3, 5.9, 6.2, 6.8, 7. , 5.9, 6.1, 5.7, 7.1, 5.8, 7.4, 6.8,\n",
       "       6.8, 7. ])"
      ]
     },
     "execution_count": 23,
     "metadata": {},
     "output_type": "execute_result"
    }
   ],
   "source": [
    "x1"
   ]
  },
  {
   "cell_type": "code",
   "execution_count": 24,
   "metadata": {},
   "outputs": [
    {
     "data": {
      "text/plain": [
       "array([225., 180., 190., 180., 205., 225., 185., 235., 235., 210., 245.,\n",
       "       245., 185., 185., 180., 220., 194., 225., 210., 240., 225., 263.,\n",
       "       210., 235., 230., 190., 220., 210., 180., 235., 185., 175., 192.,\n",
       "       263., 180., 240., 210., 160., 230., 245., 228., 155., 200., 235.,\n",
       "       235., 105., 180., 185., 245., 180., 240., 225., 215., 230.])"
      ]
     },
     "execution_count": 24,
     "metadata": {},
     "output_type": "execute_result"
    }
   ],
   "source": [
    "x2"
   ]
  },
  {
   "cell_type": "code",
   "execution_count": 25,
   "metadata": {},
   "outputs": [
    {
     "data": {
      "text/plain": [
       "array([0.442, 0.435, 0.456, 0.416, 0.449, 0.431, 0.487, 0.469, 0.435,\n",
       "       0.48 , 0.516, 0.493, 0.374, 0.424, 0.441, 0.503, 0.503, 0.425,\n",
       "       0.371, 0.504, 0.4  , 0.482, 0.475, 0.428, 0.559, 0.441, 0.492,\n",
       "       0.402, 0.415, 0.492, 0.484, 0.387, 0.436, 0.482, 0.34 , 0.516,\n",
       "       0.475, 0.412, 0.411, 0.407, 0.445, 0.291, 0.449, 0.546, 0.48 ,\n",
       "       0.359, 0.528, 0.352, 0.414, 0.425, 0.599, 0.482, 0.457, 0.435])"
      ]
     },
     "execution_count": 25,
     "metadata": {},
     "output_type": "execute_result"
    }
   ],
   "source": [
    "x3"
   ]
  },
  {
   "cell_type": "code",
   "execution_count": 26,
   "metadata": {},
   "outputs": [
    {
     "data": {
      "text/plain": [
       "array([0.672, 0.797, 0.761, 0.651, 0.9  , 0.78 , 0.771, 0.75 , 0.818,\n",
       "       0.825, 0.632, 0.757, 0.709, 0.782, 0.775, 0.88 , 0.833, 0.571,\n",
       "       0.816, 0.714, 0.765, 0.655, 0.244, 0.728, 0.721, 0.757, 0.747,\n",
       "       0.739, 0.713, 0.742, 0.861, 0.721, 0.785, 0.655, 0.821, 0.728,\n",
       "       0.846, 0.813, 0.595, 0.573, 0.726, 0.707, 0.804, 0.784, 0.744,\n",
       "       0.839, 0.79 , 0.701, 0.778, 0.872, 0.713, 0.701, 0.734, 0.764])"
      ]
     },
     "execution_count": 26,
     "metadata": {},
     "output_type": "execute_result"
    }
   ],
   "source": [
    "x4"
   ]
  },
  {
   "cell_type": "markdown",
   "metadata": {
    "id": "Ic2ViraWBiw5"
   },
   "source": [
    "### Repeat your implementation but for more than one variable"
   ]
  },
  {
   "cell_type": "code",
   "execution_count": 27,
   "metadata": {
    "id": "is3qoEjhBiw5"
   },
   "outputs": [
    {
     "data": {
      "text/plain": [
       "array([1., 1., 1., 1., 1., 1., 1., 1., 1., 1., 1., 1., 1., 1., 1., 1., 1.,\n",
       "       1., 1., 1., 1., 1., 1., 1., 1., 1., 1., 1., 1., 1., 1., 1., 1., 1.,\n",
       "       1., 1., 1., 1., 1., 1., 1., 1., 1., 1., 1., 1., 1., 1., 1., 1., 1.,\n",
       "       1., 1., 1.])"
      ]
     },
     "execution_count": 27,
     "metadata": {},
     "output_type": "execute_result"
    }
   ],
   "source": [
    "thetaC_0 =0\n",
    "thetaC_1 =0\n",
    "thetaC_2 =0\n",
    "thetaC_3 =0\n",
    "thetaC_4 =0\n",
    "alpha = 0.01\n",
    "x0 = np.ones(len(x1))\n",
    "x0\n"
   ]
  },
  {
   "cell_type": "code",
   "execution_count": 28,
   "metadata": {},
   "outputs": [
    {
     "data": {
      "text/plain": [
       "array([0., 0., 0., 0., 0., 0., 0., 0., 0., 0., 0., 0., 0., 0., 0., 0., 0.,\n",
       "       0., 0., 0., 0., 0., 0., 0., 0., 0., 0., 0., 0., 0., 0., 0., 0., 0.,\n",
       "       0., 0., 0., 0., 0., 0., 0., 0., 0., 0., 0., 0., 0., 0., 0., 0., 0.,\n",
       "       0., 0., 0.])"
      ]
     },
     "execution_count": 28,
     "metadata": {},
     "output_type": "execute_result"
    }
   ],
   "source": [
    "hC = thetaC_0*x0 + thetaC_1*x1 + thetaC_2*x2 + thetaC_3*x3 + thetaC_4*x4\n",
    "hC"
   ]
  },
  {
   "cell_type": "code",
   "execution_count": 29,
   "metadata": {},
   "outputs": [
    {
     "data": {
      "text/plain": [
       "86.58916666666664"
      ]
     },
     "execution_count": 29,
     "metadata": {},
     "output_type": "execute_result"
    }
   ],
   "source": [
    "j_costC = (1/(2*len(x1)))*sum((hC-yC)**2)\n",
    "j_costC"
   ]
  },
  {
   "cell_type": "code",
   "execution_count": 30,
   "metadata": {},
   "outputs": [
    {
     "name": "stdout",
     "output_type": "stream",
     "text": [
      "-11.79074074074074\n",
      "-77.48296296296296\n",
      "-2473.2388888888886\n",
      "-5.406274074074074\n",
      "-8.888959259259257\n"
     ]
    }
   ],
   "source": [
    "gC0 = (1/len(x1))*sum(hC-yC)\n",
    "gC1=(1/len(x1))*sum((hC-yC)*x1)\n",
    "gC2=(1/len(x2))*sum((hC-yC)*x2)\n",
    "gC3=(1/len(x3))*sum((hC-yC)*x3)\n",
    "gC4=(1/len(x4))*sum((hC-yC)*x4)\n",
    "print(gC0)\n",
    "print(gC1)\n",
    "print(gC2)\n",
    "print(gC3)\n",
    "print(gC4)\n"
   ]
  },
  {
   "cell_type": "code",
   "execution_count": 31,
   "metadata": {},
   "outputs": [
    {
     "name": "stdout",
     "output_type": "stream",
     "text": [
      "0.11790740740740739\n",
      "0.7748296296296296\n",
      "24.732388888888888\n",
      "0.05406274074074074\n",
      "0.08888959259259258\n"
     ]
    }
   ],
   "source": [
    "thetaC_0 = thetaC_0 - alpha*gC0\n",
    "thetaC_1 = thetaC_1 - alpha*gC1\n",
    "thetaC_2 = thetaC_2 - alpha*gC2\n",
    "thetaC_3 = thetaC_3 - alpha*gC3\n",
    "thetaC_4 = thetaC_4 - alpha*gC4\n",
    "print(thetaC_0)\n",
    "print(thetaC_1)\n",
    "print(thetaC_2)\n",
    "print(thetaC_3)\n",
    "print(thetaC_4)"
   ]
  },
  {
   "cell_type": "markdown",
   "metadata": {
    "id": "HVzawIE1Biw5"
   },
   "source": [
    "#### Predict y values using the LR equation\n",
    "##### h(x)= theta_0 + theta_1 * x1 + theta_2 * x2 + theta_3 * x3"
   ]
  },
  {
   "cell_type": "code",
   "execution_count": 32,
   "metadata": {
    "id": "hVzOONh4Biw6"
   },
   "outputs": [
    {
     "name": "stdout",
     "output_type": "stream",
     "text": [
      "13717518.140129903\n",
      "4.7454632752694806e+131\n",
      "3.1515538105255925e+132\n",
      "1.0164195734724223e+134\n",
      "2.1508273812562195e+131\n",
      "3.500929161105522e+131\n"
     ]
    }
   ],
   "source": [
    "arr_costC = []\n",
    "thetaCP = []\n",
    "optC_theta0 = 0\n",
    "optC_theta1 = 0\n",
    "optC_theta2 = 0\n",
    "optC_theta3 = 0\n",
    "optC_theta4 = 0\n",
    "for i in range(50):\n",
    "    hC = thetaC_0*x0 + thetaC_1*x1 + thetaC_2*x2 + thetaC_3*x3 + thetaC_4*x4\n",
    "    j_costC = (1/(2*len(x1)))*sum((hC-yC)**2)\n",
    "    #print(j_costC)\n",
    "    arr_costC.append(j_costC)\n",
    "    \n",
    "    arr_costC.append(j_costC)\n",
    "    \n",
    "    gC0 = (1/len(x1))*sum(hC-yC)\n",
    "    gC1=(1/len(x1))*sum((hC-yC)*x1)\n",
    "    gC2=(1/len(x2))*sum((hC-yC)*x2)\n",
    "    gC3=(1/len(x3))*sum((hC-yC)*x3)\n",
    "    gC4=(1/len(x4))*sum((hC-yC)*x4)\n",
    "    \n",
    "    thetaC_0 = thetaC_0 - alpha*gC0\n",
    "    thetaC_1 = thetaC_1 - alpha*gC1\n",
    "    thetaCP.append(thetaC_1)\n",
    "    thetaC_2 = thetaC_2 - alpha*gC2\n",
    "    thetaC_3 = thetaC_3 - alpha*gC3\n",
    "    thetaC_4 = thetaC_4 - alpha*gC4\n",
    "    \n",
    "min_cost= min(arr_costC)\n",
    "optC_theta0 = thetaC_0\n",
    "optC_theta1 = thetaC_1\n",
    "optC_theta2 = thetaC_2\n",
    "optC_theta3 = thetaC_3\n",
    "optC_theta4 = thetaC_4\n",
    "    \n",
    "print(min_cost)\n",
    "print(optC_theta0)\n",
    "print(optC_theta1)\n",
    "print(optC_theta2)\n",
    "print(optC_theta3)\n",
    "print(optC_theta4)\n",
    "\n",
    "\n"
   ]
  },
  {
   "cell_type": "code",
   "execution_count": 37,
   "metadata": {},
   "outputs": [
    {
     "data": {
      "text/plain": [
       "array([2.28916758e+136, 1.83162542e+136, 1.93329809e+136, 1.83158839e+136,\n",
       "       2.08592332e+136, 2.28904507e+136, 1.88244661e+136, 2.39081285e+136,\n",
       "       2.39084602e+136, 2.13667931e+136, 2.49248321e+136, 2.49248709e+136,\n",
       "       1.88244201e+136, 1.88238261e+136, 1.83159327e+136, 2.23835520e+136,\n",
       "       1.97398992e+136, 2.28941581e+136, 2.13655058e+136, 2.44172787e+136,\n",
       "       2.28916994e+136, 2.67556487e+136, 2.13656431e+136, 2.39081120e+136,\n",
       "       2.34011886e+136, 1.93329763e+136, 2.23828728e+136, 2.13670613e+136,\n",
       "       1.83155902e+136, 2.39071852e+136, 1.88248121e+136, 1.78070621e+136,\n",
       "       1.95350083e+136, 2.67556487e+136, 1.83156119e+136, 2.44160256e+136,\n",
       "       2.13658539e+136, 1.62818400e+136, 2.34001672e+136, 2.49251031e+136,\n",
       "       2.31981970e+136, 1.57738822e+136, 2.03487837e+136, 2.39081570e+136,\n",
       "       2.39087591e+136, 1.06918452e+136, 1.83156415e+136, 1.88225216e+136,\n",
       "       2.49254915e+136, 1.83147026e+136, 2.44182443e+136, 2.28916946e+136,\n",
       "       2.18752812e+136, 2.34005466e+136])"
      ]
     },
     "execution_count": 37,
     "metadata": {},
     "output_type": "execute_result"
    }
   ],
   "source": [
    "h_ofYpreC = optC_theta0 + optC_theta1 * x1 + optC_theta2 * x2 + optC_theta3 * x3 + optC_theta4 * x4\n",
    "h_ofYpreC"
   ]
  },
  {
   "cell_type": "markdown",
   "metadata": {
    "id": "zhOf8KPABiw6"
   },
   "source": [
    "### Plot loss vs. iterations"
   ]
  },
  {
   "cell_type": "code",
   "execution_count": 41,
   "metadata": {
    "id": "10jsKBUVBiw6",
    "scrolled": false
   },
   "outputs": [
    {
     "data": {
      "image/png": "[encoded data removed]",
      "text/plain": [
       "<Figure size 432x288 with 1 Axes>"
      ]
     },
     "metadata": {
      "needs_background": "light"
     },
     "output_type": "display_data"
    }
   ],
   "source": [
    "plt.plot(arr_costC)\n",
    "plt.show()"
   ]
  }
 ],
 "metadata": {
  "colab": {
   "collapsed_sections": [
    "n9WIRmqfBiw2",
    "pfuZyWqtBiw4",
    "HVzawIE1Biw5",
    "jxj1FVmCBiw6",
    "uibJCsIvBiw7",
    "mWHy57y4Biw7",
    "9EI8YD5gBiw8",
    "e4NQqWMOBiw8",
    "57PoVRRvBiw9"
   ],
   "name": "Practical Session 1 GD Implementation for LR .ipynb",
   "provenance": []
  },
  "kernelspec": {
   "display_name": "Python 3",
   "language": "python",
   "name": "python3"
  },
  "language_info": {
   "codemirror_mode": {
    "name": "ipython",
    "version": 3
   },
   "file_extension": ".py",
   "mimetype": "text/x-python",
   "name": "python",
   "nbconvert_exporter": "python",
   "pygments_lexer": "ipython3",
   "version": "3.8.5"
  }
 },
 "nbformat": 4,
 "nbformat_minor": 1
}
